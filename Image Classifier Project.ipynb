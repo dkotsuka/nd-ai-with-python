{
 "cells": [
  {
   "cell_type": "markdown",
   "metadata": {},
   "source": [
    "## Prepare the workspace"
   ]
  },
  {
   "cell_type": "code",
   "execution_count": 1,
   "metadata": {},
   "outputs": [
    {
     "name": "stdout",
     "output_type": "stream",
     "text": [
      "2.0.1\n",
      "True\n"
     ]
    }
   ],
   "source": [
    "# Check torch version and CUDA status if GPU is enabled.\n",
    "import torch\n",
    "print(torch.__version__)\n",
    "print(torch.cuda.is_available()) # Should return True when GPU is enabled. "
   ]
  },
  {
   "cell_type": "markdown",
   "metadata": {},
   "source": [
    "# Developing an AI application\n",
    "\n",
    "Going forward, AI algorithms will be incorporated into more and more everyday applications. For example, you might want to include an image classifier in a smart phone app. To do this, you'd use a deep learning model trained on hundreds of thousands of images as part of the overall application architecture. A large part of software development in the future will be using these types of models as common parts of applications. \n",
    "\n",
    "In this project, you'll train an image classifier to recognize different species of flowers. You can imagine using something like this in a phone app that tells you the name of the flower your camera is looking at. In practice you'd train this classifier, then export it for use in your application. We'll be using [this dataset](http://www.robots.ox.ac.uk/~vgg/data/flowers/102/index.html) of 102 flower categories, you can see a few examples below. \n",
    "\n",
    "<img src='assets/Flowers.png' width=500px>\n",
    "\n",
    "The project is broken down into multiple steps:\n",
    "\n",
    "* Load and preprocess the image dataset\n",
    "* Train the image classifier on your dataset\n",
    "* Use the trained classifier to predict image content\n",
    "\n",
    "We'll lead you through each part which you'll implement in Python.\n",
    "\n",
    "When you've completed this project, you'll have an application that can be trained on any set of labeled images. Here your network will be learning about flowers and end up as a command line application. But, what you do with your new skills depends on your imagination and effort in building a dataset. For example, imagine an app where you take a picture of a car, it tells you what the make and model is, then looks up information about it. Go build your own dataset and make something new.\n",
    "\n",
    "First up is importing the packages you'll need. It's good practice to keep all the imports at the beginning of your code. As you work through this notebook and find you need to import a package, make sure to add the import up here."
   ]
  },
  {
   "cell_type": "code",
   "execution_count": 2,
   "metadata": {},
   "outputs": [],
   "source": [
    "%matplotlib inline\n",
    "%config InlineBackend.figure_format = 'retina'\n",
    "\n",
    "import matplotlib.pyplot as plt\n",
    "import torch\n",
    "from torchvision import datasets, transforms\n",
    "from torch import nn, optim\n",
    "import torch.nn.functional as F\n",
    "\n",
    "import torchvision.models as models\n",
    "from torchvision.models import resnet50, ResNet50_Weights\n",
    "\n",
    "import numpy as np\n",
    "\n",
    "import os\n",
    "from PIL import Image\n",
    "from collections import OrderedDict\n",
    "\n",
    "is_cuda_enabled = torch.cuda.is_available()\n",
    "device = torch.device('cuda' if is_cuda_enabled else 'cpu')"
   ]
  },
  {
   "cell_type": "markdown",
   "metadata": {},
   "source": [
    "## Load the data\n",
    "\n",
    "Here you'll use `torchvision` to load the data ([documentation](http://pytorch.org/docs/0.3.0/torchvision/index.html)). The data should be included alongside this notebook, otherwise you can [download it here](https://s3.amazonaws.com/content.udacity-data.com/nd089/flower_data.tar.gz). "
   ]
  },
  {
   "cell_type": "markdown",
   "metadata": {},
   "source": [
    "If you do not find the `flowers/` dataset in the current directory, **/workspace/home/aipnd-project/**, you can download it using the following commands. \n",
    "\n",
    "```bash\n",
    "!wget 'https://s3.amazonaws.com/content.udacity-data.com/nd089/flower_data.tar.gz'\n",
    "!unlink flowers\n",
    "!mkdir flowers && tar -xzf flower_data.tar.gz -C flowers\n",
    "```\n"
   ]
  },
  {
   "cell_type": "markdown",
   "metadata": {},
   "source": [
    "## Data Description\n",
    "The dataset is split into three parts, training, validation, and testing. For the training, you'll want to apply transformations such as random scaling, cropping, and flipping. This will help the network generalize leading to better performance. You'll also need to make sure the input data is resized to 224x224 pixels as required by the pre-trained networks.\n",
    "\n",
    "The validation and testing sets are used to measure the model's performance on data it hasn't seen yet. For this you don't want any scaling or rotation transformations, but you'll need to resize then crop the images to the appropriate size.\n",
    "\n",
    "The pre-trained networks you'll use were trained on the ImageNet dataset where each color channel was normalized separately. For all three sets you'll need to normalize the means and standard deviations of the images to what the network expects. For the means, it's `[0.485, 0.456, 0.406]` and for the standard deviations `[0.229, 0.224, 0.225]`, calculated from the ImageNet images.  These values will shift each color channel to be centered at 0 and range from -1 to 1.\n",
    " "
   ]
  },
  {
   "cell_type": "code",
   "execution_count": 3,
   "metadata": {},
   "outputs": [],
   "source": [
    "data_dir = '../flowers'\n",
    "train_dir = data_dir + '/train'\n",
    "valid_dir = data_dir + '/valid'\n",
    "test_dir = data_dir + '/test'"
   ]
  },
  {
   "cell_type": "code",
   "execution_count": 4,
   "metadata": {},
   "outputs": [],
   "source": [
    "# DONE: Define your transforms for the training, validation, and testing sets\n",
    "data_transforms = transforms.Compose([transforms.RandomRotation(30),\n",
    "                                       transforms.RandomResizedCrop(224),\n",
    "                                       transforms.RandomHorizontalFlip(),\n",
    "                                       transforms.ToTensor(),\n",
    "                                       transforms.Normalize([0.5, 0.5, 0.5], \n",
    "                                                            [0.5, 0.5, 0.5])])\n",
    "\n",
    "# Done: Load the datasets with ImageFolder\n",
    "train_datasets = datasets.ImageFolder(train_dir, transform=data_transforms)\n",
    "valid_datasets = datasets.ImageFolder(valid_dir, transform=data_transforms)\n",
    "test_datasets = datasets.ImageFolder(test_dir, transform=data_transforms)\n",
    "\n",
    "# Done: Using the image datasets and the trainforms, define the dataloaders\n",
    "trainloader = torch.utils.data.DataLoader(train_datasets, batch_size=32, shuffle=True)\n",
    "validloader = torch.utils.data.DataLoader(valid_datasets, batch_size=32, shuffle=True)\n",
    "testloader = torch.utils.data.DataLoader(test_datasets, batch_size=32, shuffle=True)"
   ]
  },
  {
   "cell_type": "markdown",
   "metadata": {},
   "source": [
    "### Label mapping\n",
    "\n",
    "You'll also need to load in a mapping from category label to category name. You can find this in the file `cat_to_name.json`. It's a JSON object which you can read in with the [`json` module](https://docs.python.org/2/library/json.html). This will give you a dictionary mapping the integer encoded categories to the actual names of the flowers."
   ]
  },
  {
   "cell_type": "code",
   "execution_count": 5,
   "metadata": {},
   "outputs": [],
   "source": [
    "import json\n",
    "\n",
    "with open('../cat_to_name.json', 'r') as f:\n",
    "    cat_to_name = json.load(f)"
   ]
  },
  {
   "cell_type": "markdown",
   "metadata": {},
   "source": [
    "# Building and training the classifier\n",
    "\n",
    "Now that the data is ready, it's time to build and train the classifier. As usual, you should use one of the pretrained models from `torchvision.models` to get the image features. Build and train a new feed-forward classifier using those features.\n",
    "\n",
    "We're going to leave this part up to you. Refer to [the rubric](https://review.udacity.com/#!/rubrics/1663/view) for guidance on successfully completing this section. Things you'll need to do:\n",
    "\n",
    "* Load a [pre-trained network](http://pytorch.org/docs/master/torchvision/models.html) (If you need a starting point, the VGG networks work great and are straightforward to use)\n",
    "* Define a new, untrained feed-forward network as a classifier, using ReLU activations and dropout\n",
    "* Train the classifier layers using backpropagation using the pre-trained network to get the features\n",
    "* Track the loss and accuracy on the validation set to determine the best hyperparameters\n",
    "\n",
    "We've left a cell open for you below, but use as many as you need. Our advice is to break the problem up into smaller parts you can run separately. Check that each part is doing what you expect, then move on to the next. You'll likely find that as you work through each part, you'll need to go back and modify your previous code. This is totally normal!\n",
    "\n",
    "When training make sure you're updating only the weights of the feed-forward network. You should be able to get the validation accuracy above 70% if you build everything right. Make sure to try different hyperparameters (learning rate, units in the classifier, epochs, etc) to find the best model. Save those hyperparameters to use as default values in the next part of the project.\n",
    "\n",
    "One last important tip if you're using the workspace to run your code: To avoid having your workspace disconnect during the long-running tasks in this notebook, please read in the earlier page in this lesson called Intro to\n",
    "GPU Workspaces about Keeping Your Session Active. You'll want to include code from the workspace_utils.py module.\n",
    "\n",
    "## Note for Workspace users: \n",
    "If your network is over 1 GB when saved as a checkpoint, there might be issues with saving backups in your workspace. Typically this happens with wide dense layers after the convolutional layers. If your saved checkpoint is larger than 1 GB (you can open a terminal and check with `ls -lh`), you should reduce the size of your hidden layers and train again."
   ]
  },
  {
   "cell_type": "code",
   "execution_count": 6,
   "metadata": {},
   "outputs": [],
   "source": [
    "def get_model(arch):\n",
    "    classifier_archs = {\n",
    "        \"vgg\": OrderedDict([('fc1', nn.Linear(25088, 4096)),\n",
    "                            ('relu1', nn.ReLU()),\n",
    "                            ('fc2', nn.Linear(4096, 512)),\n",
    "                            ('relu2', nn.ReLU()),\n",
    "                            ('fc3', nn.Linear(512, 256)),\n",
    "                            ('relu3', nn.ReLU()),\n",
    "                            ('fc4', nn.Linear(256, 102)),\n",
    "                            ('softmax', nn.LogSoftmax(dim=1))]),\n",
    "        \"resnet\": OrderedDict([('fc1', nn.Linear(2048, 1024)),\n",
    "                            ('relu1', nn.ReLU()),\n",
    "                            ('fc2', nn.Linear(1024, 512)),\n",
    "                            ('relu2', nn.ReLU()),\n",
    "                            ('fc3', nn.Linear(512, 256)),\n",
    "                            ('relu3', nn.ReLU()),\n",
    "                            ('fc4', nn.Linear(256, 102)),\n",
    "                            ('softmax', nn.LogSoftmax(dim=1))])\n",
    "    }\n",
    "    \n",
    "    if (arch == \"vgg\"):\n",
    "        model = models.vgg16(pretrained=True)\n",
    "    elif (arch == \"resnet\"):\n",
    "        model = models.resnet50(pretrained=True)\n",
    "        \n",
    "    for param in model.parameters():\n",
    "        param.requires_grad = False\n",
    "        \n",
    "    classifier_layer = build_classifier(classifier_archs[arch])\n",
    "    \n",
    "    if(arch == \"vgg\"):\n",
    "        model.classifier = classifier_layer\n",
    "    elif (arch == \"resnet\"):\n",
    "        model.fc = classifier_layer\n",
    "    \n",
    "    return model"
   ]
  },
  {
   "cell_type": "code",
   "execution_count": 7,
   "metadata": {},
   "outputs": [],
   "source": [
    "def build_classifier(ordered_dict):\n",
    "    return nn.Sequential(ordered_dict)"
   ]
  },
  {
   "cell_type": "code",
   "execution_count": 8,
   "metadata": {},
   "outputs": [
    {
     "name": "stderr",
     "output_type": "stream",
     "text": [
      "C:\\Users\\Daniel\\anaconda3\\lib\\site-packages\\torchvision\\models\\_utils.py:208: UserWarning: The parameter 'pretrained' is deprecated since 0.13 and may be removed in the future, please use 'weights' instead.\n",
      "  warnings.warn(\n",
      "C:\\Users\\Daniel\\anaconda3\\lib\\site-packages\\torchvision\\models\\_utils.py:223: UserWarning: Arguments other than a weight enum or `None` for 'weights' are deprecated since 0.13 and may be removed in the future. The current behavior is equivalent to passing `weights=VGG16_Weights.IMAGENET1K_V1`. You can also use `weights=VGG16_Weights.DEFAULT` to get the most up-to-date weights.\n",
      "  warnings.warn(msg)\n"
     ]
    }
   ],
   "source": [
    "arch = \"vgg\"\n",
    "\n",
    "model = get_model(arch)"
   ]
  },
  {
   "cell_type": "code",
   "execution_count": 9,
   "metadata": {},
   "outputs": [],
   "source": [
    "learning_rate = 0.03\n",
    "epoch_counter = 0"
   ]
  },
  {
   "cell_type": "code",
   "execution_count": 10,
   "metadata": {},
   "outputs": [],
   "source": [
    "criterion = nn.CrossEntropyLoss()\n",
    "if(arch == 'vgg'):\n",
    "    parameters = model.classifier.parameters()\n",
    "elif(arch == 'resnet'):\n",
    "    parameters = model.fc.parameters()\n",
    "optimizer = optim.SGD(parameters, lr=learning_rate)"
   ]
  },
  {
   "cell_type": "code",
   "execution_count": 11,
   "metadata": {},
   "outputs": [],
   "source": [
    "def train(model, trainloader, validloader, criterion, optimizer, epochs=5, print_every=10 ):\n",
    "    \n",
    "    steps = 0\n",
    "    running_loss = 0\n",
    "    \n",
    "    model = model.to(device)\n",
    "        \n",
    "    for e in range(epochs):\n",
    "        model.train()\n",
    "        for images, labels in trainloader:\n",
    "            steps += 1\n",
    "            \n",
    "            images, labels = images.to(device), labels.to(device)\n",
    "            \n",
    "            optimizer.zero_grad()\n",
    "            \n",
    "            output = model(images)\n",
    "            loss = criterion(output, labels)\n",
    "            loss.backward()\n",
    "            optimizer.step()\n",
    "            \n",
    "            running_loss += loss.item()\n",
    "\n",
    "            if steps % print_every == 0:\n",
    "                \n",
    "                model.eval()\n",
    "                \n",
    "                with torch.no_grad():\n",
    "                    test_loss, accuracy = validation(model, validloader, criterion)\n",
    "                \n",
    "                print(\"Epoch: {}/{}.. \".format(e+1, epochs),\n",
    "                      \"Training Loss: {:.3f}.. \".format(running_loss/print_every),\n",
    "                      \"Test Loss: {:.3f}.. \".format(test_loss/len(validloader)),\n",
    "                      \"Test Accuracy: {:.3f}\".format(accuracy/len(validloader)))\n",
    "                \n",
    "                running_loss = 0\n",
    "                \n",
    "                model.train()\n",
    "                \n",
    "    return epochs\n"
   ]
  },
  {
   "cell_type": "code",
   "execution_count": 12,
   "metadata": {},
   "outputs": [],
   "source": [
    "def validation(model, validloader, criterion, cuda=True):\n",
    "    accuracy = 0\n",
    "    test_loss = 0\n",
    "    model = model.to(device)\n",
    "        \n",
    "    for images, labels in validloader:\n",
    "        images = images.to(device)\n",
    "        labels = labels.to(device)\n",
    "        \n",
    "        output = model(images)\n",
    "        test_loss += criterion(output, labels).item()\n",
    "\n",
    "        ps = torch.exp(output)\n",
    "        equality = (labels.data == ps.max(1)[1])\n",
    "        accuracy += equality.type_as(torch.FloatTensor()).mean()\n",
    "\n",
    "    return test_loss, accuracy\n"
   ]
  },
  {
   "cell_type": "code",
   "execution_count": 13,
   "metadata": {},
   "outputs": [
    {
     "name": "stdout",
     "output_type": "stream",
     "text": [
      "Epoch: 1/4..  Training Loss: 4.605..  Test Loss: 4.568..  Test Accuracy: 0.019\n",
      "Epoch: 1/4..  Training Loss: 4.520..  Test Loss: 4.427..  Test Accuracy: 0.094\n",
      "Epoch: 1/4..  Training Loss: 4.365..  Test Loss: 4.230..  Test Accuracy: 0.091\n",
      "Epoch: 1/4..  Training Loss: 4.093..  Test Loss: 3.857..  Test Accuracy: 0.134\n",
      "Epoch: 1/4..  Training Loss: 3.688..  Test Loss: 3.492..  Test Accuracy: 0.217\n",
      "Epoch: 2/4..  Training Loss: 3.312..  Test Loss: 3.078..  Test Accuracy: 0.269\n",
      "Epoch: 2/4..  Training Loss: 2.875..  Test Loss: 2.812..  Test Accuracy: 0.323\n",
      "Epoch: 2/4..  Training Loss: 2.627..  Test Loss: 2.533..  Test Accuracy: 0.332\n",
      "Epoch: 2/4..  Training Loss: 2.372..  Test Loss: 2.309..  Test Accuracy: 0.379\n",
      "Epoch: 2/4..  Training Loss: 2.186..  Test Loss: 2.140..  Test Accuracy: 0.444\n",
      "Epoch: 3/4..  Training Loss: 1.968..  Test Loss: 2.058..  Test Accuracy: 0.451\n",
      "Epoch: 3/4..  Training Loss: 1.895..  Test Loss: 1.985..  Test Accuracy: 0.461\n",
      "Epoch: 3/4..  Training Loss: 1.766..  Test Loss: 1.766..  Test Accuracy: 0.511\n",
      "Epoch: 3/4..  Training Loss: 1.648..  Test Loss: 1.565..  Test Accuracy: 0.592\n",
      "Epoch: 3/4..  Training Loss: 1.604..  Test Loss: 1.512..  Test Accuracy: 0.593\n",
      "Epoch: 4/4..  Training Loss: 1.480..  Test Loss: 1.351..  Test Accuracy: 0.622\n",
      "Epoch: 4/4..  Training Loss: 1.369..  Test Loss: 1.487..  Test Accuracy: 0.591\n",
      "Epoch: 4/4..  Training Loss: 1.374..  Test Loss: 1.422..  Test Accuracy: 0.606\n",
      "Epoch: 4/4..  Training Loss: 1.352..  Test Loss: 1.281..  Test Accuracy: 0.630\n",
      "Epoch: 4/4..  Training Loss: 1.241..  Test Loss: 1.450..  Test Accuracy: 0.590\n"
     ]
    }
   ],
   "source": [
    "epoch_counter += train(model, trainloader, validloader, criterion, optimizer, epochs=4, print_every=40)"
   ]
  },
  {
   "cell_type": "markdown",
   "metadata": {},
   "source": [
    "## Testing your network\n",
    "\n",
    "It's good practice to test your trained network on test data, images the network has never seen either in training or validation. This will give you a good estimate for the model's performance on completely new images. Run the test images through the network and measure the accuracy, the same way you did validation. You should be able to reach around 70% accuracy on the test set if the model has been trained well."
   ]
  },
  {
   "cell_type": "code",
   "execution_count": 14,
   "metadata": {},
   "outputs": [
    {
     "name": "stdout",
     "output_type": "stream",
     "text": [
      "Test Loss: 1.380..  Test Accuracy: 0.607\n"
     ]
    }
   ],
   "source": [
    "# Done: Do validation on the test set\n",
    "model.eval()\n",
    "with torch.no_grad():\n",
    "    test_loss, accuracy = validation(model, testloader, criterion)\n",
    "\n",
    "    print(\"Test Loss: {:.3f}.. \".format(test_loss/len(testloader)),\n",
    "          \"Test Accuracy: {:.3f}\".format(accuracy/len(testloader)))\n",
    "\n",
    "    model.train()"
   ]
  },
  {
   "cell_type": "markdown",
   "metadata": {},
   "source": [
    "## Save the checkpoint\n",
    "\n",
    "Now that your network is trained, save the model so you can load it later for making predictions. You probably want to save other things such as the mapping of classes to indices which you get from one of the image datasets: `image_datasets['train'].class_to_idx`. You can attach this to the model as an attribute which makes inference easier later on.\n",
    "\n",
    "```model.class_to_idx = image_datasets['train'].class_to_idx```\n",
    "\n",
    "Remember that you'll want to completely rebuild the model later so you can use it for inference. Make sure to include any information you need in the checkpoint. If you want to load the model and keep training, you'll want to save the number of epochs as well as the optimizer state, `optimizer.state_dict`. You'll likely want to use this trained model in the next part of the project, so best to save it now."
   ]
  },
  {
   "cell_type": "code",
   "execution_count": 23,
   "metadata": {},
   "outputs": [],
   "source": [
    "# DONE: Save the checkpoint\n",
    "\n",
    "if(arch == \"vgg\"):\n",
    "    classifier = model.classifier\n",
    "elif (arch == \"resnet\"):\n",
    "    classifier = model.fc\n",
    "\n",
    "class_to_idx = train_datasets.class_to_idx\n",
    "\n",
    "hidden_layers = []\n",
    "for index, layer in enumerate(classifier.children()):\n",
    "    if isinstance(layer, nn.Linear):\n",
    "        hidden_layers.append(layer.out_features)\n",
    "hidden_layers.pop()\n",
    "\n",
    "checkpoint = {'arch': arch,\n",
    "              'classifier_state_dict': classifier.state_dict(),\n",
    "              'optimizer_state_dict': optimizer.state_dict(),\n",
    "              'learning_rate': learning_rate,\n",
    "              'class_to_idx': class_to_idx,\n",
    "              'epochs': epoch_counter\n",
    "             }\n",
    "\n",
    "torch.save(checkpoint, 'checkpoint-{}.pth'.format(arch))"
   ]
  },
  {
   "cell_type": "markdown",
   "metadata": {},
   "source": [
    "## Loading the checkpoint\n",
    "\n",
    "At this point it's good to write a function that can load a checkpoint and rebuild the model. That way you can come back to this project and keep working on it without having to retrain the network."
   ]
  },
  {
   "cell_type": "code",
   "execution_count": 18,
   "metadata": {},
   "outputs": [],
   "source": [
    "# TODO: Write a function that loads a checkpoint and rebuilds the model\n",
    "def load_checkpoint(filepath):\n",
    "    checkpoint = torch.load(filepath)\n",
    "    \n",
    "    model = get_model(checkpoint['arch'])\n",
    "    \n",
    "    if(arch == 'vgg'):\n",
    "        parameters = model.classifier.parameters()\n",
    "        model.classifier.load_state_dict(checkpoint['classifier_state_dict'])\n",
    "    elif(arch == 'resnet'):\n",
    "        parameters = model.fc.parameters()\n",
    "        model.fc.load_state_dict(checkpoint['classifier_state_dict'])\n",
    "        \n",
    "    optimizer = optim.SGD(parameters, checkpoint['learning_rate'])\n",
    "    optimizer.load_state_dict(checkpoint['optimizer_state_dict'])\n",
    "    \n",
    "    model.class_to_idx = checkpoint['class_to_idx']\n",
    "    \n",
    "    epoch_counter = checkpoint['epochs']\n",
    "    \n",
    "    return model, optimizer, epoch_counter"
   ]
  },
  {
   "cell_type": "code",
   "execution_count": 19,
   "metadata": {},
   "outputs": [],
   "source": [
    "model, optimizer, epoch_counter = load_checkpoint('checkpoint-{}.pth'.format(arch))"
   ]
  },
  {
   "cell_type": "code",
   "execution_count": 20,
   "metadata": {},
   "outputs": [
    {
     "name": "stdout",
     "output_type": "stream",
     "text": [
      "accuracy: 0.6674679517745972\n"
     ]
    }
   ],
   "source": [
    "# test validation after load checkpoint\n",
    "test_loss, accuracy = validation(model, validloader, criterion)\n",
    "print('accuracy: {}'.format(accuracy/len(validloader)))"
   ]
  },
  {
   "cell_type": "code",
   "execution_count": 21,
   "metadata": {},
   "outputs": [
    {
     "name": "stdout",
     "output_type": "stream",
     "text": [
      "Epoch: 1/4..  Training Loss: 1.192..  Test Loss: 1.093..  Test Accuracy: 0.704\n",
      "Epoch: 1/4..  Training Loss: 1.123..  Test Loss: 1.263..  Test Accuracy: 0.670\n",
      "Epoch: 1/4..  Training Loss: 1.116..  Test Loss: 1.293..  Test Accuracy: 0.642\n",
      "Epoch: 1/4..  Training Loss: 1.050..  Test Loss: 1.271..  Test Accuracy: 0.636\n",
      "Epoch: 1/4..  Training Loss: 1.179..  Test Loss: 1.166..  Test Accuracy: 0.688\n",
      "Epoch: 2/4..  Training Loss: 1.105..  Test Loss: 1.112..  Test Accuracy: 0.713\n",
      "Epoch: 2/4..  Training Loss: 0.982..  Test Loss: 1.116..  Test Accuracy: 0.679\n",
      "Epoch: 2/4..  Training Loss: 0.959..  Test Loss: 0.991..  Test Accuracy: 0.737\n",
      "Epoch: 2/4..  Training Loss: 0.961..  Test Loss: 1.124..  Test Accuracy: 0.672\n",
      "Epoch: 2/4..  Training Loss: 0.971..  Test Loss: 0.972..  Test Accuracy: 0.738\n",
      "Epoch: 3/4..  Training Loss: 0.913..  Test Loss: 0.979..  Test Accuracy: 0.753\n",
      "Epoch: 3/4..  Training Loss: 0.947..  Test Loss: 1.120..  Test Accuracy: 0.698\n",
      "Epoch: 3/4..  Training Loss: 0.870..  Test Loss: 0.944..  Test Accuracy: 0.753\n",
      "Epoch: 3/4..  Training Loss: 0.947..  Test Loss: 0.970..  Test Accuracy: 0.733\n",
      "Epoch: 3/4..  Training Loss: 0.845..  Test Loss: 0.864..  Test Accuracy: 0.754\n",
      "Epoch: 4/4..  Training Loss: 0.860..  Test Loss: 1.008..  Test Accuracy: 0.735\n",
      "Epoch: 4/4..  Training Loss: 0.788..  Test Loss: 0.953..  Test Accuracy: 0.736\n",
      "Epoch: 4/4..  Training Loss: 0.828..  Test Loss: 0.932..  Test Accuracy: 0.734\n",
      "Epoch: 4/4..  Training Loss: 0.823..  Test Loss: 0.915..  Test Accuracy: 0.752\n",
      "Epoch: 4/4..  Training Loss: 0.836..  Test Loss: 0.922..  Test Accuracy: 0.755\n"
     ]
    }
   ],
   "source": [
    "# test train after load checkpoint\n",
    "epoch_counter += train(model, trainloader, validloader, criterion, optimizer, epochs=4, print_every=40)"
   ]
  },
  {
   "cell_type": "code",
   "execution_count": 22,
   "metadata": {},
   "outputs": [
    {
     "data": {
      "text/plain": [
       "8"
      ]
     },
     "execution_count": 22,
     "metadata": {},
     "output_type": "execute_result"
    }
   ],
   "source": [
    "epoch_counter"
   ]
  },
  {
   "cell_type": "markdown",
   "metadata": {},
   "source": [
    "# Inference for classification\n",
    "\n",
    "Now you'll write a function to use a trained network for inference. That is, you'll pass an image into the network and predict the class of the flower in the image. Write a function called `predict` that takes an image and a model, then returns the top $K$ most likely classes along with the probabilities. It should look like \n",
    "\n",
    "```python\n",
    "probs, classes = predict(image_path, model)\n",
    "print(probs)\n",
    "print(classes)\n",
    "> [ 0.01558163  0.01541934  0.01452626  0.01443549  0.01407339]\n",
    "> ['70', '3', '45', '62', '55']\n",
    "```\n",
    "\n",
    "First you'll need to handle processing the input image such that it can be used in your network. \n",
    "\n",
    "## Image Preprocessing\n",
    "\n",
    "You'll want to use `PIL` to load the image ([documentation](https://pillow.readthedocs.io/en/latest/reference/Image.html)). It's best to write a function that preprocesses the image so it can be used as input for the model. This function should process the images in the same manner used for training. \n",
    "\n",
    "First, resize the images where the shortest side is 256 pixels, keeping the aspect ratio. This can be done with the [`thumbnail`](http://pillow.readthedocs.io/en/3.1.x/reference/Image.html#PIL.Image.Image.thumbnail) or [`resize`](http://pillow.readthedocs.io/en/3.1.x/reference/Image.html#PIL.Image.Image.thumbnail) methods. Then you'll need to crop out the center 224x224 portion of the image.\n",
    "\n",
    "Color channels of images are typically encoded as integers 0-255, but the model expected floats 0-1. You'll need to convert the values. It's easiest with a Numpy array, which you can get from a PIL image like so `np_image = np.array(pil_image)`.\n",
    "\n",
    "As before, the network expects the images to be normalized in a specific way. For the means, it's `[0.485, 0.456, 0.406]` and for the standard deviations `[0.229, 0.224, 0.225]`. You'll want to subtract the means from each color channel, then divide by the standard deviation. \n",
    "\n",
    "And finally, PyTorch expects the color channel to be the first dimension but it's the third dimension in the PIL image and Numpy array. You can reorder dimensions using [`ndarray.transpose`](https://docs.scipy.org/doc/numpy-1.13.0/reference/generated/numpy.ndarray.transpose.html). The color channel needs to be first and retain the order of the other two dimensions."
   ]
  },
  {
   "cell_type": "code",
   "execution_count": 24,
   "metadata": {},
   "outputs": [],
   "source": [
    "def process_image(image):\n",
    "    ''' Scales, crops, and normalizes a PIL image for a PyTorch model,\n",
    "        returns an Numpy array\n",
    "    '''\n",
    "    \n",
    "    # DONE: Process a PIL image for use in a PyTorch model\n",
    "    with Image.open(image) as img:\n",
    "        \n",
    "        transform = transforms.Compose([transforms.Resize(255),\n",
    "                                        transforms.CenterCrop(224),\n",
    "                                        transforms.ToTensor(),\n",
    "                                       transforms.Normalize(mean=[0.485, 0.456, 0.406], std=[0.229, 0.224, 0.225])])\n",
    "        tensor_image = transform(img)\n",
    "\n",
    "        return tensor_image\n",
    "        "
   ]
  },
  {
   "cell_type": "markdown",
   "metadata": {},
   "source": [
    "To check your work, the function below converts a PyTorch tensor and displays it in the notebook. If your `process_image` function works, running the output through this function should return the original image (except for the cropped out portions)."
   ]
  },
  {
   "cell_type": "code",
   "execution_count": 25,
   "metadata": {},
   "outputs": [],
   "source": [
    "def imshow(image, ax=None, title=None):\n",
    "    \"\"\"Imshow for Tensor.\"\"\"\n",
    "    if ax is None:\n",
    "        fig, ax = plt.subplots()\n",
    "    \n",
    "    # PyTorch tensors assume the color channel is the first dimension\n",
    "    # but matplotlib assumes is the third dimension\n",
    "    image = image.numpy().transpose((1, 2, 0))\n",
    "    \n",
    "    # Undo preprocessing\n",
    "    mean = np.array([0.485, 0.456, 0.406])\n",
    "    std = np.array([0.229, 0.224, 0.225])\n",
    "    image = std * image + mean\n",
    "    \n",
    "    # Image needs to be clipped between 0 and 1 or it looks like noise when displayed\n",
    "    image = np.clip(image, 0, 1)\n",
    "    \n",
    "    ax.imshow(image)\n",
    "    \n",
    "    return ax"
   ]
  },
  {
   "cell_type": "markdown",
   "metadata": {},
   "source": [
    "## Class Prediction\n",
    "\n",
    "Once you can get images in the correct format, it's time to write a function for making predictions with your model. A common practice is to predict the top 5 or so (usually called top-$K$) most probable classes. You'll want to calculate the class probabilities then find the $K$ largest values.\n",
    "\n",
    "To get the top $K$ largest values in a tensor use [`x.topk(k)`](http://pytorch.org/docs/master/torch.html#torch.topk). This method returns both the highest `k` probabilities and the indices of those probabilities corresponding to the classes. You need to convert from these indices to the actual class labels using `class_to_idx` which hopefully you added to the model or from an `ImageFolder` you used to load the data ([see here](#Save-the-checkpoint)). Make sure to invert the dictionary so you get a mapping from index to class as well.\n",
    "\n",
    "Again, this method should take a path to an image and a model checkpoint, then return the probabilities and classes.\n",
    "\n",
    "```python\n",
    "probs, classes = predict(image_path, model)\n",
    "print(probs)\n",
    "print(classes)\n",
    "> [ 0.01558163  0.01541934  0.01452626  0.01443549  0.01407339]\n",
    "> ['70', '3', '45', '62', '55']\n",
    "```"
   ]
  },
  {
   "cell_type": "code",
   "execution_count": 26,
   "metadata": {},
   "outputs": [],
   "source": [
    "# DONE: Implement the code to predict the class from an image file\n",
    "def predict(image, model, topk=5):\n",
    "    ''' Predict the class (or classes) of an image using a trained deep learning model.\n",
    "    '''\n",
    "    model.eval()\n",
    "    \n",
    "    model.to(device)\n",
    "    image = image.unsqueeze(0)\n",
    "    image = image.to(device)\n",
    "    output = model(image)\n",
    "    ps = torch.exp(output)\n",
    "    \n",
    "    idx_to_class = {idx: class_key for class_key, idx in model.class_to_idx.items()}\n",
    "    \n",
    "    values, indices = torch.topk(ps, k=topk)\n",
    "    \n",
    "    values = values.cpu().detach().numpy().squeeze()\n",
    "    classes = [idx_to_class[idx] for idx in indices.squeeze().tolist()]\n",
    "    class_names = [cat_to_name[class_key] for class_key in classes]\n",
    "    \n",
    "    model.train()\n",
    "    \n",
    "    return values, class_names, classes"
   ]
  },
  {
   "cell_type": "markdown",
   "metadata": {},
   "source": [
    "## Sanity Checking\n",
    "\n",
    "Now that you can use a trained model for predictions, check to make sure it makes sense. Even if the testing accuracy is high, it's always good to check that there aren't obvious bugs. Use `matplotlib` to plot the probabilities for the top 5 classes as a bar graph, along with the input image. It should look like this:\n",
    "\n",
    "<img src='assets/inference_example.png' width=300px>\n",
    "\n",
    "You can convert from the class integer encoding to actual flower names with the `cat_to_name.json` file (should have been loaded earlier in the notebook). To show a PyTorch tensor as an image, use the `imshow` function defined above."
   ]
  },
  {
   "cell_type": "code",
   "execution_count": 27,
   "metadata": {},
   "outputs": [],
   "source": [
    "# DONE: Display an image along with the top 5 classes\n",
    "def view_classify(image, values, classes):\n",
    "    ''' Function for viewing an image and it's predicted classes.\n",
    "    '''\n",
    "    fig, (ax1, ax2) = plt.subplots(figsize=(6,9), ncols=2)\n",
    "    \n",
    "    image = image.numpy().transpose((1, 2, 0))\n",
    "    image = np.clip(image, 0, 1)\n",
    "    ax1.imshow(image.squeeze())\n",
    "    ax1.axis('off')\n",
    "    ax2.barh(np.arange(len(values)), values)\n",
    "    ax2.set_aspect(0.1)\n",
    "    ax2.set_yticks(np.arange(len(values)))\n",
    "    ax2.set_yticklabels(classes)\n",
    "    ax2.set_title('Class Probability')\n",
    "    ax2.set_xlim(0, 1.1)\n",
    "\n",
    "    plt.tight_layout()\n"
   ]
  },
  {
   "cell_type": "code",
   "execution_count": 28,
   "metadata": {},
   "outputs": [
    {
     "data": {
      "image/png": "[encoded data removed]",
      "text/plain": [
       "<Figure size 600x900 with 2 Axes>"
      ]
     },
     "metadata": {
      "image/png": {
       "height": 237,
       "width": 589
      }
     },
     "output_type": "display_data"
    }
   ],
   "source": [
    "image_path = '../flowers/test/8/image_03291.jpg'\n",
    "image = process_image(image_path)\n",
    "values, class_names, classes = predict(image, model, topk=5)\n",
    "\n",
    "view_classify(image, values, class_names)"
   ]
  },
  {
   "cell_type": "markdown",
   "metadata": {},
   "source": [
    "## Reminder for Workspace users\n",
    "If your network becomes very large when saved as a checkpoint, there might be issues with saving backups in your workspace. You should reduce the size of your hidden layers and train again. \n",
    "    \n",
    "We strongly encourage you to delete these large interim files and directories before navigating to another page or closing the browser tab."
   ]
  },
  {
   "cell_type": "code",
   "execution_count": null,
   "metadata": {},
   "outputs": [],
   "source": [
    "# DONE remove .pth files or move it to a temporary `~/opt` directory in this Workspace\n",
    "\n",
    "source_directory = \"./\"\n",
    "file_list = os.listdir(source_directory)"
   ]
  },
  {
   "cell_type": "code",
   "execution_count": null,
   "metadata": {},
   "outputs": [],
   "source": [
    "# Delete all .pth files\n",
    "for file_name in file_list:\n",
    "    if file_name.endswith(\".pth\"):\n",
    "        source_path = os.path.join(source_directory, file_name)\n",
    "        temporary_path = os.path.join(temporary_directory, file_name)\n",
    "\n",
    "        os.remove(source_path)"
   ]
  },
  {
   "cell_type": "code",
   "execution_count": null,
   "metadata": {},
   "outputs": [],
   "source": []
  }
 ],
 "metadata": {
  "kernelspec": {
   "display_name": "Python 3 (ipykernel)",
   "language": "python",
   "name": "python3"
  },
  "language_info": {
   "codemirror_mode": {
    "name": "ipython",
    "version": 3
   },
   "file_extension": ".py",
   "mimetype": "text/x-python",
   "name": "python",
   "nbconvert_exporter": "python",
   "pygments_lexer": "ipython3",
   "version": "3.10.13"
  }
 },
 "nbformat": 4,
 "nbformat_minor": 2
}
